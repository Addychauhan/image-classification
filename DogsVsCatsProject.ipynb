{
  "nbformat": 4,
  "nbformat_minor": 0,
  "metadata": {
    "colab": {
      "private_outputs": true,
      "provenance": [],
      "gpuType": "T4",
      "authorship_tag": "ABX9TyO5305Oiy7vOh66NFOqM8bB",
      "include_colab_link": true
    },
    "kernelspec": {
      "name": "python3",
      "display_name": "Python 3"
    },
    "language_info": {
      "name": "python"
    },
    "accelerator": "GPU"
  },
  "cells": [
    {
      "cell_type": "markdown",
      "metadata": {
        "id": "view-in-github",
        "colab_type": "text"
      },
      "source": [
        "<a href=\"https://colab.research.google.com/github/Addychauhan/image-classification/blob/main/DogsVsCatsProject.ipynb\" target=\"_parent\"><img src=\"https://colab.research.google.com/assets/colab-badge.svg\" alt=\"Open In Colab\"/></a>"
      ]
    },
    {
      "cell_type": "code",
      "source": [
        "from google.colab import files\n",
        "files.upload()"
      ],
      "metadata": {
        "id": "0XWdrXB7fXDS"
      },
      "execution_count": null,
      "outputs": []
    },
    {
      "cell_type": "code",
      "execution_count": null,
      "metadata": {
        "id": "6uJVLCAOFclE"
      },
      "outputs": [],
      "source": [
        "!mkdir -p ~/.kaggle"
      ]
    },
    {
      "cell_type": "code",
      "source": [
        "!cp kaggle.json ~/.kaggle"
      ],
      "metadata": {
        "id": "oKzbzou_Fmim"
      },
      "execution_count": null,
      "outputs": []
    },
    {
      "cell_type": "code",
      "source": [
        "!kaggle datasets download -d salader/dogs-vs-cats"
      ],
      "metadata": {
        "id": "2JUzKRlhFyK8"
      },
      "execution_count": null,
      "outputs": []
    },
    {
      "cell_type": "code",
      "source": [
        "# !kaggle competitions download -c dogs-vs-cats"
      ],
      "metadata": {
        "id": "ckizAGC9GEWm"
      },
      "execution_count": null,
      "outputs": []
    },
    {
      "cell_type": "code",
      "source": [
        "import zipfile\n",
        "\n",
        "zip_ref = zipfile.ZipFile(\"/content/dogs-vs-cats.zip\",'r')"
      ],
      "metadata": {
        "id": "JP_0HntNGP5G"
      },
      "execution_count": null,
      "outputs": []
    },
    {
      "cell_type": "code",
      "source": [
        "zip_ref.extractall(\"/content\")\n",
        "zip_ref.close()"
      ],
      "metadata": {
        "id": "UacLhRclUg1y"
      },
      "execution_count": null,
      "outputs": []
    },
    {
      "cell_type": "code",
      "source": [
        "# /train/\n",
        "#     ├── cats/\n",
        "#     └── dogs/\n",
        "# /test/\n",
        "#     ├── cats/\n",
        "#     └── dogs/"
      ],
      "metadata": {
        "id": "Z1BwneRdb4SA"
      },
      "execution_count": null,
      "outputs": []
    },
    {
      "cell_type": "code",
      "source": [
        "# !ls /content/train"
      ],
      "metadata": {
        "id": "yshU2L8ec-X7"
      },
      "execution_count": null,
      "outputs": []
    },
    {
      "cell_type": "code",
      "source": [
        "# !ls /content/test"
      ],
      "metadata": {
        "id": "ZpdIf1YydNw5"
      },
      "execution_count": null,
      "outputs": []
    },
    {
      "cell_type": "code",
      "source": [
        "import tensorflow as tf\n",
        "from tensorflow import keras\n",
        "from keras import Sequential\n",
        "from keras.layers import Dense, Conv2D, MaxPooling2D, Flatten"
      ],
      "metadata": {
        "id": "Hp0FONFlG0_M"
      },
      "execution_count": null,
      "outputs": []
    },
    {
      "cell_type": "code",
      "source": [
        "# !mkdir -p train\n",
        "# !unzip -q train.zip -d train"
      ],
      "metadata": {
        "id": "_QP6NzBFH5Jn"
      },
      "execution_count": null,
      "outputs": []
    },
    {
      "cell_type": "code",
      "source": [
        "# !mkdir -p test\n",
        "# !unzip -q train.zip -d test"
      ],
      "metadata": {
        "id": "2SYEMim1HsXQ"
      },
      "execution_count": null,
      "outputs": []
    },
    {
      "cell_type": "code",
      "source": [
        "train_ds = keras.utils.image_dataset_from_directory(\n",
        "    directory = \"/content/train\",\n",
        "    labels = \"inferred\",\n",
        "    label_mode = 'int',\n",
        "    batch_size = 32,\n",
        "    image_size=(256, 256)\n",
        ")"
      ],
      "metadata": {
        "id": "B4vBi__QG3xN"
      },
      "execution_count": null,
      "outputs": []
    },
    {
      "cell_type": "code",
      "source": [
        "validation_ds = keras.utils.image_dataset_from_directory(\n",
        "    directory = \"/content/test\",\n",
        "    labels = \"inferred\",\n",
        "    label_mode = 'int',\n",
        "    batch_size = 32,\n",
        "    image_size=(256, 256)\n",
        ")"
      ],
      "metadata": {
        "id": "kIZ_yCkLG55x"
      },
      "execution_count": null,
      "outputs": []
    },
    {
      "cell_type": "code",
      "source": [
        "def normalizing(image, label):\n",
        "    image = tf.cast(image / 255, tf.float32)\n",
        "    return image,label"
      ],
      "metadata": {
        "id": "RyFRGySCgBrR"
      },
      "execution_count": null,
      "outputs": []
    },
    {
      "cell_type": "code",
      "source": [
        "train_ds_new = train_ds.map(normalizing)"
      ],
      "metadata": {
        "id": "sZs1l523gEuO"
      },
      "execution_count": null,
      "outputs": []
    },
    {
      "cell_type": "code",
      "source": [
        "validation_df_new = validation_ds.map(normalizing)"
      ],
      "metadata": {
        "id": "vikiYFhngKXp"
      },
      "execution_count": null,
      "outputs": []
    },
    {
      "cell_type": "code",
      "source": [
        "# To create a CNN Model\n",
        "\n",
        "model = Sequential()"
      ],
      "metadata": {
        "id": "DyNx5dfxgRiF"
      },
      "execution_count": null,
      "outputs": []
    },
    {
      "cell_type": "code",
      "source": [
        "#Build Neural Network\n",
        "model.add(Conv2D(32, kernel_size = (3, 3),\n",
        "                 padding = \"valid\", activation = \"relu\",\n",
        "                 input_shape = (256, 256, 3)))\n",
        "model.add(MaxPooling2D(pool_size = (2, 2), strides = 2, padding = \"valid\"))\n",
        "\n",
        "\n",
        "model.add(Conv2D(64, kernel_size = (3, 3),\n",
        "                 padding = \"valid\", activation = \"relu\"))\n",
        "model.add(MaxPooling2D(pool_size = (2, 2), strides = 2, padding = \"valid\"))\n",
        "\n",
        "\n",
        "model.add(Conv2D(128, kernel_size = (3, 3),\n",
        "                 padding = \"valid\", activation = \"relu\"))\n",
        "model.add(MaxPooling2D(pool_size = (2, 2), strides = 2, padding = \"valid\"))\n",
        "\n",
        "\n",
        "model.add(Flatten())\n",
        "\n",
        "model.add(Dense(128, activation = \"relu\"))\n",
        "model.add(Dense(64, activation = \"relu\"))\n",
        "model.add(Dense(1, activation = \"sigmoid\"))"
      ],
      "metadata": {
        "id": "ZU8qVexpevgE"
      },
      "execution_count": null,
      "outputs": []
    },
    {
      "cell_type": "code",
      "source": [
        "model.summary()"
      ],
      "metadata": {
        "id": "5NHAc0tBgVRW"
      },
      "execution_count": null,
      "outputs": []
    },
    {
      "cell_type": "code",
      "source": [
        "#Model Compilation"
      ],
      "metadata": {
        "id": "tgme4iVVgYsX"
      },
      "execution_count": null,
      "outputs": []
    },
    {
      "cell_type": "code",
      "source": [
        "model.compile(optimizer = \"adam\", loss = \"binary_crossentropy\", metrics = [\"accuracy\"])"
      ],
      "metadata": {
        "id": "2GRsaSACgc4E"
      },
      "execution_count": null,
      "outputs": []
    },
    {
      "cell_type": "code",
      "source": [
        "#Model Training"
      ],
      "metadata": {
        "id": "aYT6zavPge1J"
      },
      "execution_count": null,
      "outputs": []
    },
    {
      "cell_type": "code",
      "source": [
        "model.fit(train_ds_new, epochs = 10, validation_data = validation_df_new)"
      ],
      "metadata": {
        "id": "fC_jNiBQghXc"
      },
      "execution_count": null,
      "outputs": []
    },
    {
      "cell_type": "code",
      "source": [],
      "metadata": {
        "id": "JraYHMtRgjSK"
      },
      "execution_count": null,
      "outputs": []
    }
  ]
}